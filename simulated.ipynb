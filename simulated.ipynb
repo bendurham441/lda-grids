{
 "cells": [
  {
   "cell_type": "code",
   "execution_count": 1,
   "metadata": {},
   "outputs": [],
   "source": [
    "import numpy as np\n",
    "import math\n",
    "import matplotlib.pyplot as plt\n",
    "from sklearn.utils import shuffle"
   ]
  },
  {
   "cell_type": "code",
   "execution_count": 2,
   "metadata": {},
   "outputs": [],
   "source": [
    "# topic_0 = np.array([100,100,100,0,0,0,0,0,0])\n",
    "# topic_1 = np.array([100,0,0,100,0,0,100,0,0])\n",
    "# topic_2 = np.array([0,0,100,0,0,100,0,0,100])\n",
    "# topic_3 = np.array([0,100,0,0,100,0,0,100,0])"
   ]
  },
  {
   "cell_type": "code",
   "execution_count": 3,
   "metadata": {},
   "outputs": [],
   "source": [
    "# t0_dist = topic_0.reshape(1,-1) / np.sum(topic_0)\n",
    "# t1_dist = topic_1.reshape(1,-1) / np.sum(topic_1)\n",
    "# t2_dist = topic_2.reshape(1,-1) / np.sum(topic_2)\n",
    "# t3_dist = topic_3.reshape(1,-1) / np.sum(topic_3)"
   ]
  },
  {
   "cell_type": "code",
   "execution_count": 747,
   "metadata": {},
   "outputs": [],
   "source": [
    "topic_0 = np.array([100,100,0,0]).reshape(2,2)\n",
    "topic_1 = np.array([0,0,100,100]).reshape(2,2)\n",
    "topic_2= np.array([100,0,100,0]).reshape(2,2)"
   ]
  },
  {
   "cell_type": "code",
   "execution_count": 748,
   "metadata": {},
   "outputs": [],
   "source": [
    "t0_dist = topic_0.reshape(1,-1) / np.sum(topic_0)\n",
    "t1_dist = topic_1.reshape(1,-1) / np.sum(topic_1)\n",
    "t2_dist = topic_2.reshape(1,-1) / np.sum(topic_2)"
   ]
  },
  {
   "cell_type": "code",
   "execution_count": 749,
   "metadata": {},
   "outputs": [],
   "source": [
    "tdists = [t0_dist, t1_dist, t2_dist]\n",
    "tdists = [np.squeeze(item) for item in tdists]\n",
    "num_topics = len(tdists)"
   ]
  },
  {
   "cell_type": "code",
   "execution_count": 770,
   "metadata": {},
   "outputs": [],
   "source": [
    "num_images = 100\n",
    "num_words = 20\n",
    "dim = 2"
   ]
  },
  {
   "cell_type": "code",
   "execution_count": 771,
   "metadata": {},
   "outputs": [],
   "source": [
    "w_corp = []\n",
    "z_corp = []\n",
    "\n",
    "for iter in range(num_images):\n",
    "    dir_draw = np.random.dirichlet([1] * num_topics, 1)[0]\n",
    "    mult_draw = np.random.multinomial(num_words, pvals = dir_draw)\n",
    "    w_i = np.zeros(num_words)\n",
    "    z_i = np.zeros(num_words)\n",
    "    i = 0\n",
    "    for t, count in enumerate(mult_draw):\n",
    "        words = np.random.choice(dim * dim, size=count, p=tdists[t])\n",
    "        for j, word in enumerate(words):\n",
    "            w_i[i] = words[j]\n",
    "            z_i[i] = t\n",
    "            i += 1 \n",
    "    w_i, z_i = shuffle(w_i, z_i, random_state=0)\n",
    "    w_corp.append(w_i)\n",
    "    z_corp.append(z_i)\n",
    "w_corp = np.array(w_corp)\n",
    "z_corp = np.array(z_corp)"
   ]
  },
  {
   "cell_type": "code",
   "execution_count": 772,
   "metadata": {},
   "outputs": [
    {
     "data": {
      "text/plain": [
       "20"
      ]
     },
     "execution_count": 772,
     "metadata": {},
     "output_type": "execute_result"
    }
   ],
   "source": [
    "len(w_corp[0])"
   ]
  },
  {
   "cell_type": "code",
   "execution_count": 782,
   "metadata": {},
   "outputs": [],
   "source": [
    "def to_image(w_i):\n",
    "    unique, counts = np.unique(w_i, return_counts=True)\n",
    "    print(f'counts: {counts}')\n",
    "    print(f'unique: {unique}')\n",
    "    freqs = np.zeros(dim * dim)\n",
    "    for num, ct in zip(unique, counts):\n",
    "        freqs[int(num)] = ct\n",
    "    plt.imshow(freqs.reshape(dim, dim))"
   ]
  },
  {
   "cell_type": "code",
   "execution_count": 783,
   "metadata": {},
   "outputs": [
    {
     "data": {
      "text/plain": [
       "array([0., 0., 0., 1., 0., 0., 1., 2., 0., 1., 1., 3., 0., 0., 2., 0., 1.,\n",
       "       1., 3., 2.])"
      ]
     },
     "execution_count": 783,
     "metadata": {},
     "output_type": "execute_result"
    }
   ],
   "source": [
    "w_corp[0]"
   ]
  },
  {
   "cell_type": "code",
   "execution_count": 784,
   "metadata": {},
   "outputs": [
    {
     "name": "stdout",
     "output_type": "stream",
     "text": [
      "counts: [9 6 3 2]\n",
      "unique: [0. 1. 2. 3.]\n"
     ]
    },
    {
     "data": {
      "image/png": "[encoded data removed]",
      "text/plain": [
       "<Figure size 640x480 with 1 Axes>"
      ]
     },
     "metadata": {},
     "output_type": "display_data"
    }
   ],
   "source": [
    "to_image(w_corp[0])"
   ]
  },
  {
   "cell_type": "code",
   "execution_count": 785,
   "metadata": {},
   "outputs": [
    {
     "data": {
      "text/plain": [
       "2000"
      ]
     },
     "execution_count": 785,
     "metadata": {},
     "output_type": "execute_result"
    }
   ],
   "source": [
    "topic_assignments = np.random.randint(0,num_topics,size=num_images * num_words)\n",
    "len(topic_assignments)"
   ]
  },
  {
   "cell_type": "code",
   "execution_count": 786,
   "metadata": {},
   "outputs": [],
   "source": [
    "topic_assignments = topic_assignments.reshape(num_images, num_words)"
   ]
  },
  {
   "cell_type": "code",
   "execution_count": 787,
   "metadata": {},
   "outputs": [],
   "source": [
    "beta = 1\n",
    "alpha = 1"
   ]
  },
  {
   "cell_type": "code",
   "execution_count": 788,
   "metadata": {},
   "outputs": [],
   "source": [
    "def draw_fcd(words, topic_assigns, ind):\n",
    "    d = math.floor(ind / num_words)\n",
    "    w_ind = ind - d * num_words\n",
    "    word = int(w_corp[d, w_ind])\n",
    "    # print(f'topic: {z_corp[d, w_ind]}')\n",
    "    # print(f'word: {word}')\n",
    "    curr_topic_assign = int(z_corp[d, w_ind])\n",
    "    tprob_unweighted = np.zeros(num_topics)\n",
    "    partial_w = np.delete(words.reshape(1,-1), ind)\n",
    "    partial_z = np.delete(topic_assigns.reshape(1,-1), ind)\n",
    "    for t in range(num_topics):\n",
    "        #njdot and njw\n",
    "        words_in_topic = partial_w[partial_z == t]\n",
    "        njdot = len(words_in_topic)\n",
    "        unique, counts = np.unique(words_in_topic, return_counts=True)\n",
    "        ind_of_word = np.argwhere(unique == word)\n",
    "        njw = 0\n",
    "        if len(ind_of_word):\n",
    "            ind_of_word = ind_of_word[0][0]\n",
    "            count_of_word = counts[ind_of_word]\n",
    "            njw = count_of_word\n",
    "\n",
    "        # within document\n",
    "        curr_doc_z = np.delete(topic_assigns[d], w_ind)\n",
    "        njd = len(np.where(curr_doc_z == t)[0])\n",
    "        nddot = num_words - 1\n",
    "\n",
    "\n",
    "        # print(f'njw: {njw} njdot: {njdot} njd: {njd} nddot: {nddot}')\n",
    "        tprob_unweighted[t] = (njw + beta)*(njd + alpha) / ((njdot + dim * dim * beta)*(nddot + num_topics * alpha))\n",
    "    # print(tprob_unweighted)\n",
    "    tprob = tprob_unweighted / np.sum(tprob_unweighted)\n",
    "    # print(tprob)\n",
    "    return np.random.choice(num_topics, p=tprob)\n",
    "        \n",
    "    # print(word)"
   ]
  },
  {
   "cell_type": "code",
   "execution_count": 760,
   "metadata": {},
   "outputs": [
    {
     "data": {
      "text/plain": [
       "1"
      ]
     },
     "execution_count": 760,
     "metadata": {},
     "output_type": "execute_result"
    }
   ],
   "source": [
    "draw_fcd(w_corp, topic_assignments, 3)"
   ]
  },
  {
   "cell_type": "code",
   "execution_count": 761,
   "metadata": {},
   "outputs": [],
   "source": [
    "# %lprun -f draw_fcd draw_fcd(w_corp, topic_assignments, 19998)"
   ]
  },
  {
   "cell_type": "code",
   "execution_count": 26,
   "metadata": {},
   "outputs": [],
   "source": [
    "%load_ext line_profiler"
   ]
  },
  {
   "cell_type": "code",
   "execution_count": 789,
   "metadata": {},
   "outputs": [],
   "source": [
    "topic_assignment_distrs = np.zeros((num_images * num_words, num_topics))"
   ]
  },
  {
   "cell_type": "code",
   "execution_count": 790,
   "metadata": {},
   "outputs": [],
   "source": [
    "def gibbs_iter(w_corp, state, burn_in=False):\n",
    "    next_state = state.copy()\n",
    "    # print(next_state)\n",
    "    for i in range(num_words * num_images):\n",
    "        new_state_i = draw_fcd(w_corp, next_state, i)\n",
    "        d = math.floor(i / num_words)\n",
    "        w_ind = i - d * num_words\n",
    "        next_state[d,w_ind] = new_state_i\n",
    "        if not burn_in:\n",
    "            topic_assignment_distrs[i, new_state_i] += 1\n",
    "    return next_state.reshape(num_images, num_words)"
   ]
  },
  {
   "cell_type": "code",
   "execution_count": 641,
   "metadata": {},
   "outputs": [
    {
     "data": {
      "text/plain": [
       "array([3., 1., 0., 3., 3.])"
      ]
     },
     "execution_count": 641,
     "metadata": {},
     "output_type": "execute_result"
    }
   ],
   "source": [
    "w_corp[0]"
   ]
  },
  {
   "cell_type": "code",
   "execution_count": 673,
   "metadata": {},
   "outputs": [
    {
     "name": "stdout",
     "output_type": "stream",
     "text": [
      "[0 1 0 0 0 1 0 0 1 0 0 0 0 0 1 0 1 1 0 0 0 0 0 0 0]\n",
      "[[2. 1.]\n",
      " [0. 3.]\n",
      " [1. 2.]\n",
      " ...\n",
      " [2. 1.]\n",
      " [2. 1.]\n",
      " [3. 0.]]\n"
     ]
    }
   ],
   "source": [
    "new_state = gibbs_iter(w_corp, topic_assignments, burn_in=False)\n",
    "print(new_state[0])\n",
    "print(topic_assignment_distrs)"
   ]
  },
  {
   "cell_type": "code",
   "execution_count": 223,
   "metadata": {},
   "outputs": [
    {
     "name": "stdout",
     "output_type": "stream",
     "text": [
      "[[1 1 1 0 0]\n",
      " [0 0 0 0 0]]\n"
     ]
    }
   ],
   "source": [
    "new = gibbs_iter(w_corp, topic_assignments)"
   ]
  },
  {
   "cell_type": "code",
   "execution_count": 147,
   "metadata": {},
   "outputs": [
    {
     "name": "stdout",
     "output_type": "stream",
     "text": [
      "Timer unit: 1e-09 s\n",
      "\n",
      "Total time: 15.1167 s\n",
      "File: /tmp/ipykernel_6637/92699743.py\n",
      "Function: gibbs_iter at line 1\n",
      "\n",
      "Line #      Hits         Time  Per Hit   % Time  Line Contents\n",
      "==============================================================\n",
      "     1                                           def gibbs_iter(w_corp, state, burn_in=False):\n",
      "     2         1    3033360.0    3e+06      0.0      next_state = np.zeros(num_images * num_words)\n",
      "     3     20001    8323315.0    416.1      0.1      for i in range(0, len(next_state)):\n",
      "     4     20000        2e+10 752545.7     99.6          new_state_i = draw_fcd(w_corp, state, i)\n",
      "     5     20000   19534206.0    976.7      0.1          next_state[i] = new_state_i\n",
      "     6     20000    5051857.0    252.6      0.0          if not burn_in:\n",
      "     7     20000   29796306.0   1489.8      0.2              topic_assignment_distrs[i, new_state_i] += 1\n",
      "     8         1       2603.0   2603.0      0.0      return next_state.reshape(num_images, num_words)"
     ]
    }
   ],
   "source": [
    "%lprun -f gibbs_iter gibbs_iter(w_corp, topic_assignments)"
   ]
  },
  {
   "cell_type": "markdown",
   "metadata": {},
   "source": [
    "Burn in"
   ]
  },
  {
   "cell_type": "code",
   "execution_count": 791,
   "metadata": {},
   "outputs": [
    {
     "name": "stdout",
     "output_type": "stream",
     "text": [
      "i: 0\n",
      "i: 100\n",
      "i: 200\n",
      "i: 300\n",
      "i: 400\n",
      "i: 500\n",
      "i: 600\n",
      "i: 700\n",
      "i: 800\n",
      "i: 900\n"
     ]
    }
   ],
   "source": [
    "state = topic_assignments\n",
    "for i in range(1000):\n",
    "    if i % 100 == 0:\n",
    "        print(f'i: {i}')\n",
    "    state = gibbs_iter(w_corp, state, burn_in=True)"
   ]
  },
  {
   "cell_type": "code",
   "execution_count": 539,
   "metadata": {},
   "outputs": [
    {
     "data": {
      "text/plain": [
       "array([2., 2., 3., 3., 1., 3., 3., 3., 0., 2.])"
      ]
     },
     "execution_count": 539,
     "metadata": {},
     "output_type": "execute_result"
    }
   ],
   "source": [
    "w_corp[0]"
   ]
  },
  {
   "cell_type": "code",
   "execution_count": null,
   "metadata": {},
   "outputs": [],
   "source": [
    "for i in range(1000):\n",
    "    # print(not i % 10 == 0)\n",
    "    state = gibbs_iter(w_corp, state, burn_in=(not i % 10 == 0))\n",
    "    if i % 100 == 0:\n",
    "        print(topic_assignment_distrs[:10])\n"
   ]
  },
  {
   "cell_type": "code",
   "execution_count": 792,
   "metadata": {},
   "outputs": [],
   "source": [
    "def calc_phi(words, z_hat, t):\n",
    "    tprobs = np.zeros(dim * dim)\n",
    "    words_in_topic = words.reshape(1,-1)[z_hat.reshape(1,-1) == t]\n",
    "    unique, counts = np.unique(words_in_topic, return_counts=True)\n",
    "    print(unique)\n",
    "    print(counts)\n",
    "    njdot = np.sum(counts)\n",
    "    print(njdot)\n",
    "    for word in range(dim * dim):\n",
    "        numerator = beta\n",
    "        denom = dim * dim * beta + njdot\n",
    "        if word in unique:\n",
    "            numerator += counts[np.where(unique == word)][0]\n",
    "        tprobs[word] = numerator / denom\n",
    "    # for w in range(num_topics):\n",
    "    #     ind_of_word = np.argwhere(unique == w)\n",
    "    #     njw = 0\n",
    "    #     if len(ind_of_word):\n",
    "    #         ind_of_word = ind_of_word[0][0]\n",
    "    #         count_of_word = counts[ind_of_word]\n",
    "    #         njw = count_of_word\n",
    "        # tprobs[t] = (njw + beta) / (njdot + dim * dim * beta)\n",
    "    print(tprobs.reshape(dim, dim))\n",
    "        "
   ]
  },
  {
   "cell_type": "code",
   "execution_count": null,
   "metadata": {},
   "outputs": [],
   "source": []
  },
  {
   "cell_type": "code",
   "execution_count": 795,
   "metadata": {},
   "outputs": [
    {
     "name": "stdout",
     "output_type": "stream",
     "text": [
      "[0. 1. 2. 3.]\n",
      "[339  10 300  16]\n",
      "665\n",
      "[[0.50822123 0.01644245]\n",
      " [0.44992526 0.02541106]]\n"
     ]
    }
   ],
   "source": [
    "calc_phi(w_corp, state,0)"
   ]
  },
  {
   "cell_type": "code",
   "execution_count": 701,
   "metadata": {},
   "outputs": [
    {
     "data": {
      "text/plain": [
       "array([1., 2., 3., 2., 0., 3., 3., 0., 1., 2.])"
      ]
     },
     "execution_count": 701,
     "metadata": {},
     "output_type": "execute_result"
    }
   ],
   "source": [
    "w_corp[0]"
   ]
  },
  {
   "cell_type": "code",
   "execution_count": 553,
   "metadata": {},
   "outputs": [
    {
     "data": {
      "text/plain": [
       "array([1., 1., 1., 1., 1., 1., 1., 1., 1., 1.])"
      ]
     },
     "execution_count": 553,
     "metadata": {},
     "output_type": "execute_result"
    }
   ],
   "source": [
    "z_corp[1]"
   ]
  },
  {
   "cell_type": "code",
   "execution_count": 566,
   "metadata": {},
   "outputs": [
    {
     "data": {
      "text/plain": [
       "array([1., 1., 1., 1., 0., 1., 0., 1., 0., 1., 1., 0., 0., 1., 1., 0., 1.,\n",
       "       0., 0., 0., 1., 1., 1., 0., 0., 0., 1., 1., 1., 0., 1., 0., 1., 1.,\n",
       "       1., 0., 0., 0., 0., 1., 0., 1., 1., 1., 1., 0., 1., 0., 1., 0., 0.,\n",
       "       1., 1., 1., 0., 0., 1., 0., 1., 1., 0., 0., 0., 0., 0., 0., 0., 0.,\n",
       "       0., 0., 1., 0., 1., 1., 1., 0., 0., 0., 1., 1., 0., 0., 1., 0., 1.,\n",
       "       1., 0., 0., 1., 0., 0., 1., 0., 0., 0., 0., 0., 0., 0., 1., 1., 1.,\n",
       "       1., 1., 1., 1., 1., 0., 0., 0., 0., 0., 1., 0., 1., 0., 0., 1., 0.,\n",
       "       0., 0., 0., 1., 1., 0., 0., 0., 1., 0., 1., 0., 0., 0., 0., 0., 1.,\n",
       "       0., 1., 1., 1., 1., 1., 1., 0., 0., 1., 0., 0., 0., 0., 0., 0., 1.,\n",
       "       0., 1., 0., 0., 1., 0., 1., 0., 1., 1., 0., 1., 0., 1., 1., 1., 1.,\n",
       "       1., 1., 1., 1., 1., 0., 1., 0., 1., 1., 0., 0., 0., 0., 0., 0., 0.,\n",
       "       0., 0., 1., 0., 1., 0., 0., 1., 1., 1., 1., 1., 1., 0., 0., 0., 0.,\n",
       "       1., 1., 1., 0., 1., 0., 0., 0., 0., 1., 0., 1., 0., 0., 0., 1., 0.,\n",
       "       0., 1., 0., 0., 1., 1., 0., 1., 0., 1., 1., 1., 0., 1., 1., 0., 0.,\n",
       "       1., 0.])"
      ]
     },
     "execution_count": 566,
     "metadata": {},
     "output_type": "execute_result"
    }
   ],
   "source": [
    "state.reshape(1,-1)[0][np.where(w_corp.reshape(1,-1)[0]  == 2)]"
   ]
  },
  {
   "cell_type": "code",
   "execution_count": 557,
   "metadata": {},
   "outputs": [
    {
     "data": {
      "text/plain": [
       "(array([0, 1, 9]),)"
      ]
     },
     "execution_count": 557,
     "metadata": {},
     "output_type": "execute_result"
    }
   ],
   "source": [
    "np.where(w_corp[0] == 2)"
   ]
  },
  {
   "cell_type": "code",
   "execution_count": 554,
   "metadata": {},
   "outputs": [
    {
     "data": {
      "text/plain": [
       "array([1., 0., 1., 0., 0., 1., 0., 0., 0., 1.])"
      ]
     },
     "execution_count": 554,
     "metadata": {},
     "output_type": "execute_result"
    }
   ],
   "source": [
    "state[1]"
   ]
  },
  {
   "cell_type": "code",
   "execution_count": 547,
   "metadata": {},
   "outputs": [
    {
     "data": {
      "text/plain": [
       "array([520., 480.])"
      ]
     },
     "execution_count": 547,
     "metadata": {},
     "output_type": "execute_result"
    }
   ],
   "source": [
    "np.sum(topic_assignment_distrs[10:20], axis=0)"
   ]
  },
  {
   "cell_type": "code",
   "execution_count": 612,
   "metadata": {},
   "outputs": [],
   "source": [
    "def pred_dist_from_sample(samples):\n",
    "    distrs = []\n",
    "    for t in range(num_topics):\n",
    "        distr = np.zeros(dim * dim)\n",
    "        for w in range(dim * dim):\n",
    "            sample_versions = np.zeros(len(samples))\n",
    "            for i, sample in enumerate(samples):\n",
    "                # print(sample)\n",
    "                ntw = np.sum(sample[:,math.floor(w/3), w % 3] == np.ones(num_images) * t)\n",
    "                njdot = num_images\n",
    "                sample_versions[i]= (ntw + beta) / (njdot + dim * dim * beta)\n",
    "            distr[w] = np.mean(sample_versions)\n",
    "        distrs.append(distr.reshape(dim,dim))\n",
    "    return distrs"
   ]
  },
  {
   "cell_type": "code",
   "execution_count": 613,
   "metadata": {},
   "outputs": [
    {
     "data": {
      "text/plain": [
       "30"
      ]
     },
     "execution_count": 613,
     "metadata": {},
     "output_type": "execute_result"
    }
   ],
   "source": [
    "len(samples)"
   ]
  },
  {
   "cell_type": "code",
   "execution_count": 614,
   "metadata": {},
   "outputs": [
    {
     "data": {
      "text/plain": [
       "[array([[0.23372626, 0.25199738, 0.26155861],\n",
       "        [0.25042567, 0.25749836, 0.25284872],\n",
       "        [0.25546824, 0.26797642, 0.25926654]]),\n",
       " array([[0.25036018, 0.23863785, 0.23169614],\n",
       "        [0.21322855, 0.21650295, 0.21669941],\n",
       "        [0.20720367, 0.18775377, 0.18251473]]),\n",
       " array([[0.23903078, 0.24839555, 0.23084479],\n",
       "        [0.25193189, 0.2540275 , 0.25507531],\n",
       "        [0.27334643, 0.26313032, 0.25985593]]),\n",
       " array([[0.26705959, 0.25114604, 0.26607728],\n",
       "        [0.2745907 , 0.262148  , 0.26555337],\n",
       "        [0.25415848, 0.27131631, 0.28853962]])]"
      ]
     },
     "execution_count": 614,
     "metadata": {},
     "output_type": "execute_result"
    }
   ],
   "source": [
    "pred_dist_from_sample(samples[:100])"
   ]
  },
  {
   "cell_type": "code",
   "execution_count": null,
   "metadata": {},
   "outputs": [],
   "source": []
  }
 ],
 "metadata": {
  "kernelspec": {
   "display_name": "math-capstone",
   "language": "python",
   "name": "python3"
  },
  "language_info": {
   "codemirror_mode": {
    "name": "ipython",
    "version": 3
   },
   "file_extension": ".py",
   "mimetype": "text/x-python",
   "name": "python",
   "nbconvert_exporter": "python",
   "pygments_lexer": "ipython3",
   "version": "3.12.2"
  }
 },
 "nbformat": 4,
 "nbformat_minor": 2
}
