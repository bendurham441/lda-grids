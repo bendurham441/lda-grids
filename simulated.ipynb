{
 "cells": [
  {
   "cell_type": "code",
   "execution_count": 2,
   "metadata": {},
   "outputs": [],
   "source": [
    "import numpy as np\n",
    "import math\n",
    "import matplotlib.pyplot as plt\n",
    "from sklearn.utils import shuffle"
   ]
  },
  {
   "cell_type": "code",
   "execution_count": 10,
   "metadata": {},
   "outputs": [],
   "source": [
    "topic_0 = np.array([100,100,100,0,0,0,0,0,0])\n",
    "topic_1 = np.array([100,0,0,100,0,0,100,0,0])\n",
    "topic_2 = np.array([0,0,100,0,0,100,0,0,100])\n",
    "topic_3 = np.array([0,100,0,0,100,0,0,100,0])\n",
    "topic_4 = np.array([100,0,0,0,100,0,0,0,100])\n",
    "topic_5 = np.array([100,100,100,0,0,100,0,0,100])"
   ]
  },
  {
   "cell_type": "code",
   "execution_count": 12,
   "metadata": {},
   "outputs": [
    {
     "data": {
      "text/plain": [
       "array([[100,   0,   0,   0,   0],\n",
       "       [100,   0,   0,   0,   0],\n",
       "       [100,   0,   0,   0,   0],\n",
       "       [100,   0,   0,   0,   0],\n",
       "       [100,   0,   0,   0,   0]])"
      ]
     },
     "execution_count": 12,
     "metadata": {},
     "output_type": "execute_result"
    }
   ],
   "source": [
    "topic_1.reshape(5,5)"
   ]
  },
  {
   "cell_type": "code",
   "execution_count": 228,
   "metadata": {},
   "outputs": [],
   "source": [
    "t0_dist = topic_0.reshape(1,-1) / np.sum(topic_0)\n",
    "t1_dist = topic_1.reshape(1,-1) / np.sum(topic_1)\n",
    "t2_dist = topic_2.reshape(1,-1) / np.sum(topic_2)\n",
    "t3_dist = topic_3.reshape(1,-1) / np.sum(topic_3)\n",
    "t4_dist = topic_4.reshape(1,-1) / np.sum(topic_4)\n",
    "t5_dist = topic_5.reshape(1,-1) / np.sum(topic_5)"
   ]
  },
  {
   "cell_type": "code",
   "execution_count": 509,
   "metadata": {},
   "outputs": [],
   "source": [
    "tdists = [t0_dist, t1_dist, t2_dist, t3_dist, t4_dist, t5_dist]\n",
    "tdists = [np.squeeze(item) for item in tdists]\n",
    "num_topics = len(tdists)"
   ]
  },
  {
   "cell_type": "code",
   "execution_count": 530,
   "metadata": {},
   "outputs": [],
   "source": [
    "num_images = 500\n",
    "num_words = 25\n",
    "dim = 3"
   ]
  },
  {
   "cell_type": "code",
   "execution_count": 531,
   "metadata": {},
   "outputs": [
    {
     "data": {
      "text/plain": [
       "<Figure size 640x480 with 0 Axes>"
      ]
     },
     "metadata": {},
     "output_type": "display_data"
    },
    {
     "data": {
      "image/png": "[encoded data removed]",
      "text/plain": [
       "<Figure size 640x480 with 6 Axes>"
      ]
     },
     "metadata": {},
     "output_type": "display_data"
    }
   ],
   "source": [
    "plt.figure()\n",
    "\n",
    "fig, axes = plt.subplots(1,len(tdists))\n",
    "for i, t in enumerate(tdists):\n",
    "    axes[i].imshow(tdists[i].reshape(dim, dim))\n",
    "    axes[i].axis('off')"
   ]
  },
  {
   "cell_type": "code",
   "execution_count": 532,
   "metadata": {},
   "outputs": [],
   "source": [
    "w_corp = []\n",
    "z_corp = []\n",
    "\n",
    "for iter in range(num_images):\n",
    "    dir_draw = np.random.dirichlet([1] * num_topics, 1)[0]\n",
    "    mult_draw = np.random.multinomial(num_words, pvals = dir_draw)\n",
    "    w_i = np.zeros(num_words)\n",
    "    z_i = np.zeros(num_words)\n",
    "    i = 0\n",
    "    for t, count in enumerate(mult_draw):\n",
    "        words = np.random.choice(dim * dim, size=count, p=tdists[t])\n",
    "        for j, word in enumerate(words):\n",
    "            w_i[i] = words[j]\n",
    "            z_i[i] = t\n",
    "            i += 1 \n",
    "    w_i, z_i = shuffle(w_i, z_i, random_state=0)\n",
    "    w_corp.append(w_i)\n",
    "    z_corp.append(z_i)\n",
    "w_corp = np.array(w_corp)\n",
    "z_corp = np.array(z_corp)"
   ]
  },
  {
   "cell_type": "code",
   "execution_count": 533,
   "metadata": {},
   "outputs": [
    {
     "data": {
      "image/png": "[encoded data removed]",
      "text/plain": [
       "<Figure size 640x480 with 50 Axes>"
      ]
     },
     "metadata": {},
     "output_type": "display_data"
    }
   ],
   "source": [
    "rows = 5\n",
    "cols = 10\n",
    "\n",
    "indices = np.random.choice(w_corp.shape[0], rows * cols, replace=False)\n",
    "\n",
    "indices = indices.reshape(rows, cols)\n",
    "\n",
    "fig, axes = plt.subplots(rows, cols)\n",
    "\n",
    "for i, row in enumerate(indices):\n",
    "    images = w_corp[row]\n",
    "    maxfreq = 0\n",
    "    for j, image in enumerate(images):\n",
    "        unique, counts = np.unique(image, return_counts=True)\n",
    "        maxfreq = max(maxfreq, max(counts))\n",
    "    for j, image in enumerate(images):\n",
    "        unique, counts = np.unique(image, return_counts=True)\n",
    "        freqs = np.zeros(dim * dim)\n",
    "        for num, ct in zip(unique, counts):\n",
    "            freqs[int(num)] = ct\n",
    "        axes[i,j].imshow(freqs.reshape(dim, dim), vmin=0, vmax=maxfreq)\n",
    "        axes[i,j].axis(\"off\")"
   ]
  },
  {
   "cell_type": "code",
   "execution_count": 534,
   "metadata": {},
   "outputs": [
    {
     "data": {
      "text/plain": [
       "12500"
      ]
     },
     "execution_count": 534,
     "metadata": {},
     "output_type": "execute_result"
    }
   ],
   "source": [
    "topic_assignments = np.random.randint(0,num_topics,size=num_images * num_words)\n",
    "len(topic_assignments)"
   ]
  },
  {
   "cell_type": "code",
   "execution_count": 535,
   "metadata": {},
   "outputs": [],
   "source": [
    "topic_assignments = topic_assignments.reshape(num_images, num_words)"
   ]
  },
  {
   "cell_type": "code",
   "execution_count": 536,
   "metadata": {},
   "outputs": [],
   "source": [
    "beta = 1\n",
    "alpha = 1"
   ]
  },
  {
   "cell_type": "code",
   "execution_count": 537,
   "metadata": {},
   "outputs": [
    {
     "data": {
      "text/plain": [
       "array([[3, 3, 4, ..., 0, 4, 5],\n",
       "       [4, 0, 3, ..., 3, 1, 1],\n",
       "       [0, 4, 3, ..., 3, 5, 4],\n",
       "       ...,\n",
       "       [0, 5, 3, ..., 0, 4, 0],\n",
       "       [2, 5, 1, ..., 3, 3, 5],\n",
       "       [1, 4, 2, ..., 3, 4, 4]])"
      ]
     },
     "execution_count": 537,
     "metadata": {},
     "output_type": "execute_result"
    }
   ],
   "source": [
    "topic_assignments"
   ]
  },
  {
   "cell_type": "code",
   "execution_count": 538,
   "metadata": {},
   "outputs": [],
   "source": [
    "document_data = np.zeros((num_images, num_topics))\n",
    "word_data = np.zeros((dim * dim, num_topics))"
   ]
  },
  {
   "cell_type": "code",
   "execution_count": 539,
   "metadata": {},
   "outputs": [
    {
     "data": {
      "text/plain": [
       "array([[0., 0., 0., 0., 0., 0.],\n",
       "       [0., 0., 0., 0., 0., 0.],\n",
       "       [0., 0., 0., 0., 0., 0.],\n",
       "       ...,\n",
       "       [0., 0., 0., 0., 0., 0.],\n",
       "       [0., 0., 0., 0., 0., 0.],\n",
       "       [0., 0., 0., 0., 0., 0.]])"
      ]
     },
     "execution_count": 539,
     "metadata": {},
     "output_type": "execute_result"
    }
   ],
   "source": [
    "document_data"
   ]
  },
  {
   "cell_type": "code",
   "execution_count": 540,
   "metadata": {},
   "outputs": [
    {
     "data": {
      "text/plain": [
       "array([[0., 0., 0., 0., 0., 0.],\n",
       "       [0., 0., 0., 0., 0., 0.],\n",
       "       [0., 0., 0., 0., 0., 0.],\n",
       "       [0., 0., 0., 0., 0., 0.],\n",
       "       [0., 0., 0., 0., 0., 0.],\n",
       "       [0., 0., 0., 0., 0., 0.],\n",
       "       [0., 0., 0., 0., 0., 0.],\n",
       "       [0., 0., 0., 0., 0., 0.],\n",
       "       [0., 0., 0., 0., 0., 0.]])"
      ]
     },
     "execution_count": 540,
     "metadata": {},
     "output_type": "execute_result"
    }
   ],
   "source": [
    "word_data"
   ]
  },
  {
   "cell_type": "code",
   "execution_count": 541,
   "metadata": {},
   "outputs": [],
   "source": [
    "for d in range(num_images):\n",
    "    for w in range(num_words):\n",
    "        document_data[d, topic_assignments[d,w]] += 1\n",
    "        word_data[int(w_corp[d,w]), topic_assignments[d,w]] += 1\n",
    "        # print(w_corp[d,w])\n",
    "        # word_data[w_corp[d,w], 1] += 1\n",
    "        # word_data[1, topic_assignments[d,w]] += 1"
   ]
  },
  {
   "cell_type": "code",
   "execution_count": 542,
   "metadata": {},
   "outputs": [
    {
     "data": {
      "text/plain": [
       "array([[3, 3, 4, ..., 0, 4, 5],\n",
       "       [4, 0, 3, ..., 3, 1, 1],\n",
       "       [0, 4, 3, ..., 3, 5, 4],\n",
       "       ...,\n",
       "       [0, 5, 3, ..., 0, 4, 0],\n",
       "       [2, 5, 1, ..., 3, 3, 5],\n",
       "       [1, 4, 2, ..., 3, 4, 4]])"
      ]
     },
     "execution_count": 542,
     "metadata": {},
     "output_type": "execute_result"
    }
   ],
   "source": [
    "topic_assignments"
   ]
  },
  {
   "cell_type": "code",
   "execution_count": 543,
   "metadata": {},
   "outputs": [
    {
     "data": {
      "text/plain": [
       "array([[1., 1., 7., ..., 0., 1., 8.],\n",
       "       [2., 1., 1., ..., 8., 6., 0.],\n",
       "       [3., 6., 2., ..., 5., 4., 7.],\n",
       "       ...,\n",
       "       [2., 0., 7., ..., 0., 5., 3.],\n",
       "       [0., 0., 2., ..., 8., 8., 4.],\n",
       "       [3., 1., 8., ..., 8., 1., 8.]])"
      ]
     },
     "execution_count": 543,
     "metadata": {},
     "output_type": "execute_result"
    }
   ],
   "source": [
    "w_corp"
   ]
  },
  {
   "cell_type": "code",
   "execution_count": 544,
   "metadata": {},
   "outputs": [],
   "source": [
    "def new_draw_fcd(state, ind):\n",
    "    d = math.floor(ind / num_words)\n",
    "    w_ind = ind - d * num_words\n",
    "    word = int(w_corp[d, w_ind])\n",
    "    topic = state[d, w_ind]\n",
    "    # print(f'topic: {z_corp[d, w_ind]}')\n",
    "    # print(f'word: {word}')\n",
    "\n",
    "    doc_topic = document_data[d].copy()\n",
    "    doc_topic[topic] -= 1\n",
    "    nddot = np.sum(doc_topic)\n",
    "    doc_topic_dist = (doc_topic + alpha) / (nddot + num_topics * alpha)\n",
    "    # print(doc_topic_dist)\n",
    "\n",
    "    topic_word = word_data[word].copy()\n",
    "    # print(f'pre {topic_word}')\n",
    "    topic_word[topic] -= 1\n",
    "    # print(topic)\n",
    "\n",
    "    njdot = np.sum(document_data, axis=0)\n",
    "    # njdot[topic] -= 1\n",
    "    # print(njdot)\n",
    "    # print(f'post{topic_word}')\n",
    "    topic_word_dist = (topic_word + beta) / (njdot + dim * dim * beta)\n",
    "    # print(topic_word_dist)\n",
    "\n",
    "    fcd = doc_topic_dist * topic_word_dist\n",
    "\n",
    "    fcd_rescale = fcd / np.sum(fcd)\n",
    "    # print(fcd_rescale)\n",
    "    return np.random.choice(num_topics, 1, p=fcd_rescale)[0]\n",
    "    \n",
    "    # print(topic_word)\n"
   ]
  },
  {
   "cell_type": "code",
   "execution_count": 545,
   "metadata": {},
   "outputs": [
    {
     "data": {
      "text/plain": [
       "4"
      ]
     },
     "execution_count": 545,
     "metadata": {},
     "output_type": "execute_result"
    }
   ],
   "source": [
    "new_draw_fcd(topic_assignments, 6)\n",
    "# draw_fcd(w_corp, z_corp, 4)"
   ]
  },
  {
   "cell_type": "code",
   "execution_count": 551,
   "metadata": {},
   "outputs": [
    {
     "name": "stdout",
     "output_type": "stream",
     "text": [
      "Timer unit: 1e-09 s\n",
      "\n",
      "Total time: 0.00131488 s\n",
      "File: /tmp/ipykernel_39014/206674183.py\n",
      "Function: new_draw_fcd at line 1\n",
      "\n",
      "Line #      Hits         Time  Per Hit   % Time  Line Contents\n",
      "==============================================================\n",
      "     1                                           def new_draw_fcd(state, ind):\n",
      "     2         1       2870.0   2870.0      0.2      d = math.floor(ind / num_words)\n",
      "     3         1        877.0    877.0      0.1      w_ind = ind - d * num_words\n",
      "     4         1       6506.0   6506.0      0.5      word = int(w_corp[d, w_ind])\n",
      "     5         1       1054.0   1054.0      0.1      topic = state[d, w_ind]\n",
      "     6                                               # print(f'topic: {z_corp[d, w_ind]}')\n",
      "     7                                               # print(f'word: {word}')\n",
      "     8                                           \n",
      "     9         1      14596.0  14596.0      1.1      doc_topic = document_data[d].copy()\n",
      "    10         1       5081.0   5081.0      0.4      doc_topic[topic] -= 1\n",
      "    11         1      63060.0  63060.0      4.8      nddot = np.sum(doc_topic)\n",
      "    12         1      25639.0  25639.0      1.9      doc_topic_dist = (doc_topic + alpha) / (nddot + num_topics * alpha)\n",
      "    13                                               # print(doc_topic_dist)\n",
      "    14                                           \n",
      "    15         1       6415.0   6415.0      0.5      topic_word = word_data[word].copy()\n",
      "    16                                               # print(f'pre {topic_word}')\n",
      "    17         1       2238.0   2238.0      0.2      topic_word[topic] -= 1\n",
      "    18                                               # print(topic)\n",
      "    19                                           \n",
      "    20         1     958104.0 958104.0     72.9      njdot = np.sum(document_data, axis=0)\n",
      "    21                                               # njdot[topic] -= 1\n",
      "    22                                               # print(njdot)\n",
      "    23                                               # print(f'post{topic_word}')\n",
      "    24         1      23411.0  23411.0      1.8      topic_word_dist = (topic_word + beta) / (njdot + dim * dim * beta)\n",
      "    25                                               # print(topic_word_dist)\n",
      "    26                                           \n",
      "    27         1       2809.0   2809.0      0.2      fcd = doc_topic_dist * topic_word_dist\n",
      "    28                                           \n",
      "    29         1      33670.0  33670.0      2.6      fcd_rescale = fcd / np.sum(fcd)\n",
      "    30                                               # print(fcd_rescale)\n",
      "    31         1     168546.0 168546.0     12.8      return np.random.choice(num_topics, 1, p=fcd_rescale)[0]\n",
      "    32                                               \n",
      "    33                                               # print(topic_word)"
     ]
    }
   ],
   "source": [
    "%lprun -f new_draw_fcd new_draw_fcd(topic_assignments, 1000)"
   ]
  },
  {
   "cell_type": "code",
   "execution_count": 546,
   "metadata": {},
   "outputs": [],
   "source": [
    "\n",
    "def gibbs_iter(w_corp, state, burn_in=False):\n",
    "    # next_state = state.copy()\n",
    "    for i in range(num_words * num_images):\n",
    "        d = math.floor(i / num_words)\n",
    "        w_ind = i - d * num_words\n",
    "        old_topic = state[d,w_ind].copy()\n",
    "        new_state_i = new_draw_fcd(state, i)\n",
    "        word = int(w_corp[d,w_ind])\n",
    "        state[d,w_ind] = new_state_i\n",
    "        \n",
    "        # print(f'word {word} old state {old_topic} new state {new_state_i}')\n",
    "\n",
    "        # print(document_data)\n",
    "        # print(word_data)\n",
    "\n",
    "        # update data structure\n",
    "        document_data[d, old_topic] -=1\n",
    "        document_data[d, new_state_i] +=1\n",
    "\n",
    "        word_data[word, old_topic] -=1\n",
    "        word_data[word, new_state_i] += 1\n",
    "        # print(document_data)\n",
    "        # print(word_data)\n",
    "\n",
    "    return state.reshape(num_images, num_words)"
   ]
  },
  {
   "cell_type": "code",
   "execution_count": 547,
   "metadata": {},
   "outputs": [
    {
     "name": "stdout",
     "output_type": "stream",
     "text": [
      "0\n",
      "100\n",
      "200\n",
      "300\n",
      "400\n",
      "500\n",
      "600\n",
      "700\n",
      "800\n",
      "900\n"
     ]
    }
   ],
   "source": [
    "state = topic_assignments\n",
    "for i in range(1000):\n",
    "    if i % 100 == 0:\n",
    "        print(i)\n",
    "    state = gibbs_iter(w_corp, topic_assignments)"
   ]
  },
  {
   "cell_type": "code",
   "execution_count": 224,
   "metadata": {},
   "outputs": [],
   "source": [
    "def draw_fcd(words, topic_assigns, ind):\n",
    "    d = math.floor(ind / num_words)\n",
    "    w_ind = ind - d * num_words\n",
    "    word = int(w_corp[d, w_ind])\n",
    "    print(f'topic: {z_corp[d, w_ind]} word: {word}')\n",
    "    # print(f'word: {word}')\n",
    "    curr_topic_assign = int(z_corp[d, w_ind])\n",
    "    tprob_unweighted = np.zeros(num_topics)\n",
    "    partial_w = np.delete(words.reshape(1,-1), ind)\n",
    "    partial_z = np.delete(topic_assigns.reshape(1,-1), ind)\n",
    "    for t in range(num_topics):\n",
    "        #njdot and njw\n",
    "        words_in_topic = partial_w[partial_z == t]\n",
    "        njdot = len(words_in_topic)\n",
    "        unique, counts = np.unique(words_in_topic, return_counts=True)\n",
    "        ind_of_word = np.argwhere(unique == word)\n",
    "        njw = 0\n",
    "        if len(ind_of_word):\n",
    "            ind_of_word = ind_of_word[0][0]\n",
    "            count_of_word = counts[ind_of_word]\n",
    "            njw = count_of_word\n",
    "\n",
    "        # within document\n",
    "        curr_doc_z = np.delete(topic_assigns[d], w_ind)\n",
    "        njd = len(np.where(curr_doc_z == t)[0])\n",
    "        nddot = num_words - 1\n",
    "\n",
    "\n",
    "        print(f'njw: {njw} njdot: {njdot} njd: {njd} nddot: {nddot}')\n",
    "        print(f'njdot {njdot + beta}')\n",
    "        print(f'njw {njw + dim * dim * beta}')\n",
    "        tprob_unweighted[t] = (njw + beta)*(njd + alpha) / ((njdot + dim * dim * beta)*(nddot + num_topics * alpha))\n",
    "    # print(tprob_unweighted)\n",
    "    tprob = tprob_unweighted / np.sum(tprob_unweighted)\n",
    "    print(tprob_unweighted)\n",
    "    return np.random.choice(num_topics, p=tprob)\n",
    "        \n",
    "    # print(word)"
   ]
  },
  {
   "cell_type": "code",
   "execution_count": 550,
   "metadata": {},
   "outputs": [],
   "source": [
    "%load_ext line_profiler"
   ]
  },
  {
   "cell_type": "code",
   "execution_count": 86,
   "metadata": {},
   "outputs": [],
   "source": [
    "def gibbs_iter(w_corp, state, burn_in=False):\n",
    "    next_state = state.copy()\n",
    "    # print(next_state)\n",
    "    for i in range(num_words * num_images):\n",
    "        new_state_i = draw_fcd(w_corp, next_state, i)\n",
    "        d = math.floor(i / num_words)\n",
    "        w_ind = i - d * num_words\n",
    "        next_state[d,w_ind] = new_state_i\n",
    "        # if not burn_in:\n",
    "        #     topic_assignment_distrs[i, new_state_i] += 1\n",
    "    return next_state.reshape(num_images, num_words)"
   ]
  },
  {
   "cell_type": "code",
   "execution_count": 147,
   "metadata": {},
   "outputs": [
    {
     "name": "stdout",
     "output_type": "stream",
     "text": [
      "Timer unit: 1e-09 s\n",
      "\n",
      "Total time: 15.1167 s\n",
      "File: /tmp/ipykernel_6637/92699743.py\n",
      "Function: gibbs_iter at line 1\n",
      "\n",
      "Line #      Hits         Time  Per Hit   % Time  Line Contents\n",
      "==============================================================\n",
      "     1                                           def gibbs_iter(w_corp, state, burn_in=False):\n",
      "     2         1    3033360.0    3e+06      0.0      next_state = np.zeros(num_images * num_words)\n",
      "     3     20001    8323315.0    416.1      0.1      for i in range(0, len(next_state)):\n",
      "     4     20000        2e+10 752545.7     99.6          new_state_i = draw_fcd(w_corp, state, i)\n",
      "     5     20000   19534206.0    976.7      0.1          next_state[i] = new_state_i\n",
      "     6     20000    5051857.0    252.6      0.0          if not burn_in:\n",
      "     7     20000   29796306.0   1489.8      0.2              topic_assignment_distrs[i, new_state_i] += 1\n",
      "     8         1       2603.0   2603.0      0.0      return next_state.reshape(num_images, num_words)"
     ]
    }
   ],
   "source": [
    "%lprun -f gibbs_iter gibbs_iter(w_corp, topic_assignments)"
   ]
  },
  {
   "cell_type": "markdown",
   "metadata": {},
   "source": [
    "Burn in"
   ]
  },
  {
   "cell_type": "code",
   "execution_count": 87,
   "metadata": {},
   "outputs": [
    {
     "name": "stdout",
     "output_type": "stream",
     "text": [
      "i: 0\n",
      "i: 100\n",
      "i: 200\n",
      "i: 300\n",
      "i: 400\n",
      "i: 500\n",
      "i: 600\n",
      "i: 700\n",
      "i: 800\n",
      "i: 900\n",
      "i: 1000\n",
      "i: 1100\n"
     ]
    }
   ],
   "source": [
    "state = topic_assignments\n",
    "for i in range(1200):\n",
    "    if i % 100 == 0:\n",
    "        print(f'i: {i}')\n",
    "    state = gibbs_iter(w_corp, state, burn_in=True)"
   ]
  },
  {
   "cell_type": "code",
   "execution_count": 548,
   "metadata": {},
   "outputs": [],
   "source": [
    "def calc_phi(words, z_hat, t):\n",
    "    tprobs = np.zeros(dim * dim)\n",
    "    words_in_topic = words.reshape(1,-1)[z_hat.reshape(1,-1) == t]\n",
    "    unique, counts = np.unique(words_in_topic, return_counts=True)\n",
    "    # print(unique)\n",
    "    # print(counts)\n",
    "    njdot = np.sum(counts)\n",
    "    # print(njdot)\n",
    "    for word in range(dim * dim):\n",
    "        numerator = beta\n",
    "        denom = dim * dim * beta + njdot\n",
    "        if word in unique:\n",
    "            numerator += counts[np.where(unique == word)][0]\n",
    "        tprobs[word] = numerator / denom\n",
    "    return tprobs.reshape(dim, dim)\n",
    "        "
   ]
  },
  {
   "cell_type": "code",
   "execution_count": 549,
   "metadata": {},
   "outputs": [
    {
     "data": {
      "image/png": "[encoded data removed]",
      "text/plain": [
       "<Figure size 640x480 with 6 Axes>"
      ]
     },
     "metadata": {},
     "output_type": "display_data"
    }
   ],
   "source": [
    "fig, ax = plt.subplots(1, num_topics)\n",
    "\n",
    "for t in range(num_topics):\n",
    "     ax[t].imshow(calc_phi(w_corp, state, t))\n",
    "     ax[t].axis(\"off\")"
   ]
  }
 ],
 "metadata": {
  "kernelspec": {
   "display_name": "math-capstone",
   "language": "python",
   "name": "python3"
  },
  "language_info": {
   "codemirror_mode": {
    "name": "ipython",
    "version": 3
   },
   "file_extension": ".py",
   "mimetype": "text/x-python",
   "name": "python",
   "nbconvert_exporter": "python",
   "pygments_lexer": "ipython3",
   "version": "3.12.2"
  }
 },
 "nbformat": 4,
 "nbformat_minor": 2
}
