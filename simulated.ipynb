{
 "cells": [
  {
   "cell_type": "code",
   "execution_count": 1,
   "metadata": {},
   "outputs": [],
   "source": [
    "import numpy as np\n",
    "import math\n",
    "import matplotlib.pyplot as plt\n",
    "from sklearn.utils import shuffle"
   ]
  },
  {
   "cell_type": "markdown",
   "metadata": {},
   "source": [
    "Defining ten topic-word distributions:"
   ]
  },
  {
   "cell_type": "code",
   "execution_count": 3,
   "metadata": {},
   "outputs": [],
   "source": [
    "topic_0 = np.array([ 100,100,100,100,100, 0,0,0,0,0, 0,0,0,0,0, 0,0,0,0,0, 0,0,0,0,0 ])\n",
    "topic_1 = np.array([ 100,0,0,0,0, 100,0,0,0,0, 100,0,0,0,0, 100,0,0,0,0, 100,0,0,0,0 ])\n",
    "topic_2 = np.array([ 0,0,0,0,100, 0,0,0,0,100, 0,0,0,0,100, 0,0,0,0,100, 0,0,0,0,100 ])\n",
    "topic_3 = np.array([ 0,100,0,0,0, 0,100,0,0,0, 0,100,0,0,0, 0,100,0,0,0, 0,100,0,0,0 ])\n",
    "topic_4 = np.array([ 100,0,0,0,0, 0,100,0,0,0, 0,0,100,0,0, 0,0,0,100,0, 0,0,0,0,100 ])\n",
    "topic_5 = np.array([ 100,100,100,100,100, 0,0,0,0,100, 0,0,0,0,100, 0,0,0,0,100, 0,0,0,0,100 ])\n",
    "topic_6 = np.array([ 0,0,0,0,0, 100,100,100,100,100, 0,0,0,0,0, 0,0,0,0,0, 0,0,0,0,0 ])\n",
    "topic_7 = np.array([ 0,0,0,0,0, 0,0,0,0,0, 0,0,0,0,0, 0,0,0,100,100, 0,0,0,100,100 ])\n",
    "topic_8 = np.array([ 100,100,0,0,0, 100,100,0,0,0, 100,100,0,0,0, 0,0,0,0,0, 0,0,0,0,0 ])\n",
    "topic_9 = np.array([ 0,0,0,0,0, 0,0,0,0,0, 0,0,100,100,100, 0,0,100,100,100, 0,0,100,100,100])\n"
   ]
  },
  {
   "cell_type": "markdown",
   "metadata": {},
   "source": [
    "Rescaling these topic word distributions so they are actually probability distributions"
   ]
  },
  {
   "cell_type": "code",
   "execution_count": 4,
   "metadata": {},
   "outputs": [],
   "source": [
    "t0_dist = topic_0.reshape(1,-1) / np.sum(topic_0)\n",
    "t1_dist = topic_1.reshape(1,-1) / np.sum(topic_1)\n",
    "t2_dist = topic_2.reshape(1,-1) / np.sum(topic_2)\n",
    "t3_dist = topic_3.reshape(1,-1) / np.sum(topic_3)\n",
    "t4_dist = topic_4.reshape(1,-1) / np.sum(topic_4)\n",
    "t5_dist = topic_5.reshape(1,-1) / np.sum(topic_5)\n",
    "t6_dist = topic_6.reshape(1,-1) / np.sum(topic_6)\n",
    "t7_dist = topic_7.reshape(1,-1) / np.sum(topic_7)\n",
    "t8_dist = topic_8.reshape(1,-1) / np.sum(topic_8)\n",
    "t9_dist = topic_9.reshape(1,-1) / np.sum(topic_9)"
   ]
  },
  {
   "cell_type": "code",
   "execution_count": 5,
   "metadata": {},
   "outputs": [],
   "source": [
    "tdists = [t0_dist, t1_dist, t2_dist, t3_dist, t4_dist, t5_dist, t6_dist, t7_dist, t8_dist, t9_dist]\n",
    "tdists = [np.squeeze(item) for item in tdists]\n",
    "num_topics = len(tdists)"
   ]
  },
  {
   "cell_type": "markdown",
   "metadata": {},
   "source": [
    "Defining the number of documents (images in this case) and the number of (not necessarily unique) words in each document. The dimension just relates to the size of the image. Each pixel in an image is a possible word, so there are $dim^2$ words in the vocabulary of this example."
   ]
  },
  {
   "cell_type": "code",
   "execution_count": 6,
   "metadata": {},
   "outputs": [],
   "source": [
    "num_images = 1000\n",
    "num_words = 100\n",
    "dim = 5"
   ]
  },
  {
   "cell_type": "markdown",
   "metadata": {},
   "source": [
    "Visualizing the topic-word distributions. For example, in the right most topic, words (pixels) come from only the top row."
   ]
  },
  {
   "cell_type": "code",
   "execution_count": 7,
   "metadata": {},
   "outputs": [
    {
     "data": {
      "text/plain": [
       "<Figure size 640x480 with 0 Axes>"
      ]
     },
     "metadata": {},
     "output_type": "display_data"
    },
    {
     "data": {
      "image/png": "[encoded data removed]",
      "text/plain": [
       "<Figure size 640x480 with 10 Axes>"
      ]
     },
     "metadata": {},
     "output_type": "display_data"
    }
   ],
   "source": [
    "plt.figure()\n",
    "\n",
    "fig, axes = plt.subplots(1,len(tdists))\n",
    "for i, t in enumerate(tdists):\n",
    "    axes[i].imshow(tdists[i].reshape(dim, dim))\n",
    "    axes[i].axis('off')"
   ]
  },
  {
   "cell_type": "markdown",
   "metadata": {},
   "source": [
    "This is where I generate synthetic data by, for each document (image), I pick a distribution over topics by drawing from a multinomial distribution. The probabilities associated with each topic form the multinomial topic distribution. I then draw from the multinomial distribution over topics $num_words$ times which gives the frequencies of how many words originating from some topic appear in the document. Then, for each topic, I draw the corresponding number of words for that topic from that topic's topic-word distribution. After this process, I have $num_images \\times num_words$ words and their corresponding assignments stored in `w_corp` and `z_corp` respectively."
   ]
  },
  {
   "cell_type": "code",
   "execution_count": null,
   "metadata": {},
   "outputs": [],
   "source": [
    "w_corp = []\n",
    "z_corp = []\n",
    "\n",
    "for iter in range(num_images):\n",
    "    dir_draw = np.random.dirichlet([1] * num_topics, 1)[0]\n",
    "    mult_draw = np.random.multinomial(num_words, pvals = dir_draw)\n",
    "    w_i = np.zeros(num_words)\n",
    "    z_i = np.zeros(num_words)\n",
    "    i = 0\n",
    "    for t, count in enumerate(mult_draw):\n",
    "        words = np.random.choice(dim * dim, size=count, p=tdists[t])\n",
    "        for j, word in enumerate(words):\n",
    "            w_i[i] = words[j]\n",
    "            z_i[i] = t\n",
    "            i += 1 \n",
    "    w_i, z_i = shuffle(w_i, z_i, random_state=0)\n",
    "    w_corp.append(w_i)\n",
    "    z_corp.append(z_i)\n",
    "w_corp = np.array(w_corp)\n",
    "z_corp = np.array(z_corp)"
   ]
  },
  {
   "cell_type": "markdown",
   "metadata": {},
   "source": [
    "To give an idea of what the synthetic data looks like, I draw 50 \"documents\" and show what they look like. The goal is to then recover the topic-word distributions used to generate these, only from the synthetic data. At least to my eye, it is not obvious what the topic-word distributions used to generate these are, only based on the examples shown below."
   ]
  },
  {
   "cell_type": "code",
   "execution_count": 9,
   "metadata": {},
   "outputs": [
    {
     "data": {
      "image/png": "[encoded data removed]",
      "text/plain": [
       "<Figure size 640x480 with 50 Axes>"
      ]
     },
     "metadata": {},
     "output_type": "display_data"
    }
   ],
   "source": [
    "rows = 5\n",
    "cols = 10\n",
    "\n",
    "indices = np.random.choice(w_corp.shape[0], rows * cols, replace=False)\n",
    "\n",
    "indices = indices.reshape(rows, cols)\n",
    "\n",
    "fig, axes = plt.subplots(rows, cols)\n",
    "\n",
    "for i, row in enumerate(indices):\n",
    "    images = w_corp[row]\n",
    "    maxfreq = 0\n",
    "    for j, image in enumerate(images):\n",
    "        unique, counts = np.unique(image, return_counts=True)\n",
    "        maxfreq = max(maxfreq, max(counts))\n",
    "    for j, image in enumerate(images):\n",
    "        unique, counts = np.unique(image, return_counts=True)\n",
    "        freqs = np.zeros(dim * dim)\n",
    "        for num, ct in zip(unique, counts):\n",
    "            freqs[int(num)] = ct\n",
    "        axes[i,j].imshow(freqs.reshape(dim, dim), vmin=0, vmax=maxfreq)\n",
    "        axes[i,j].axis(\"off\")"
   ]
  },
  {
   "cell_type": "markdown",
   "metadata": {},
   "source": [
    "As the first part of the procedure, I generate an initial state of the Markov chain, which initially assigns topics to words randomly. There are $num\\_images \\times num\\_words$ topic assignments in this vector."
   ]
  },
  {
   "cell_type": "code",
   "execution_count": 10,
   "metadata": {},
   "outputs": [
    {
     "data": {
      "text/plain": [
       "100000"
      ]
     },
     "execution_count": 10,
     "metadata": {},
     "output_type": "execute_result"
    }
   ],
   "source": [
    "topic_assignments = np.random.randint(0,num_topics,size=num_images * num_words)\n",
    "len(topic_assignments)"
   ]
  },
  {
   "cell_type": "code",
   "execution_count": 17,
   "metadata": {},
   "outputs": [],
   "source": [
    "topic_assignments = topic_assignments.reshape(num_images, num_words)"
   ]
  },
  {
   "cell_type": "markdown",
   "metadata": {},
   "source": [
    "These are the parameters of the underlying Dirichlet distributions."
   ]
  },
  {
   "cell_type": "code",
   "execution_count": 18,
   "metadata": {},
   "outputs": [],
   "source": [
    "beta = 1\n",
    "alpha = 1"
   ]
  },
  {
   "cell_type": "markdown",
   "metadata": {},
   "source": [
    "These two data structures allow me to track $n_j^{(w)}$ and $n_j^{(d)}$ without having to recalculate every time. Using the trick mentioned in Griffiths and Steyvers, one need only increment the entries according to the reassigned word, which is much less costly than recalculating $n_j^{(w)}$ and $n_j^{(d)}$ every iteration."
   ]
  },
  {
   "cell_type": "code",
   "execution_count": 19,
   "metadata": {},
   "outputs": [],
   "source": [
    "document_data = np.zeros((num_images, num_topics))\n",
    "word_data = np.zeros((dim * dim, num_topics))"
   ]
  },
  {
   "cell_type": "markdown",
   "metadata": {},
   "source": [
    "In this cell I populate the two data structures above for the initial random topic assignment."
   ]
  },
  {
   "cell_type": "code",
   "execution_count": 20,
   "metadata": {},
   "outputs": [],
   "source": [
    "for d in range(num_images):\n",
    "    for w in range(num_words):\n",
    "        document_data[d, topic_assignments[d,w]] += 1\n",
    "        word_data[int(w_corp[d,w]), topic_assignments[d,w]] += 1"
   ]
  },
  {
   "cell_type": "markdown",
   "metadata": {},
   "source": [
    "This function draws from the full conditional distribution on topic assignments, or $p(z_i |\\mathbf{z}_{-i}, \\mathbf{w})$, as derived in the paper."
   ]
  },
  {
   "cell_type": "code",
   "execution_count": 22,
   "metadata": {},
   "outputs": [],
   "source": [
    "def new_draw_fcd(state, ind):\n",
    "    d = math.floor(ind / num_words)\n",
    "    w_ind = ind - d * num_words\n",
    "    word = int(w_corp[d, w_ind])\n",
    "    topic = state[d, w_ind]\n",
    "\n",
    "    doc_topic = document_data[d].copy()\n",
    "    doc_topic[topic] -= 1\n",
    "    nddot = np.sum(doc_topic)\n",
    "    doc_topic_dist = (doc_topic + alpha) / (nddot + num_topics * alpha)\n",
    "\n",
    "    topic_word = word_data[word].copy()\n",
    "    topic_word[topic] -= 1\n",
    "\n",
    "    njdot = np.sum(document_data, axis=0)\n",
    "    topic_word_dist = (topic_word + beta) / (njdot + dim * dim * beta)\n",
    "\n",
    "    fcd = doc_topic_dist * topic_word_dist\n",
    "\n",
    "    fcd_rescale = fcd / np.sum(fcd)\n",
    "    return np.random.choice(num_topics, 1, p=fcd_rescale)[0]"
   ]
  },
  {
   "cell_type": "markdown",
   "metadata": {},
   "source": [
    "The function corresponds to one iteration of gibbs sampling."
   ]
  },
  {
   "cell_type": "code",
   "execution_count": 2,
   "metadata": {},
   "outputs": [],
   "source": [
    "def gibbs_iter(w_corp, state):\n",
    "    for i in range(num_words * num_images):\n",
    "        d = math.floor(i / num_words)\n",
    "        w_ind = i - d * num_words\n",
    "        old_topic = state[d,w_ind].copy()\n",
    "        new_state_i = new_draw_fcd(state, i)\n",
    "        word = int(w_corp[d,w_ind])\n",
    "        state[d,w_ind] = new_state_i\n",
    "        \n",
    "        document_data[d, old_topic] -=1\n",
    "        document_data[d, new_state_i] +=1\n",
    "\n",
    "        word_data[word, old_topic] -=1\n",
    "        word_data[word, new_state_i] += 1\n",
    "\n",
    "    return state.reshape(num_images, num_words)"
   ]
  },
  {
   "cell_type": "markdown",
   "metadata": {},
   "source": [
    "Here, I run Gibbs sampling for 1000 iterations, starting from the initially random topic assignments."
   ]
  },
  {
   "cell_type": "code",
   "execution_count": 31,
   "metadata": {},
   "outputs": [
    {
     "name": "stdout",
     "output_type": "stream",
     "text": [
      "0\n",
      "100\n",
      "200\n",
      "300\n",
      "400\n",
      "500\n",
      "600\n",
      "700\n",
      "800\n",
      "900\n"
     ]
    }
   ],
   "source": [
    "state = topic_assignments\n",
    "for i in range(1000):\n",
    "    if i % 100 == 0:\n",
    "        print(i)\n",
    "    state = gibbs_iter(w_corp, topic_assignments)"
   ]
  },
  {
   "cell_type": "markdown",
   "metadata": {},
   "source": [
    "This calculates an estimate of each topic-word distribution $\\phi_j$ for a topic $j$"
   ]
  },
  {
   "cell_type": "code",
   "execution_count": 32,
   "metadata": {},
   "outputs": [],
   "source": [
    "def calc_phi(words, z_hat, t):\n",
    "    tprobs = np.zeros(dim * dim)\n",
    "    words_in_topic = words.reshape(1,-1)[z_hat.reshape(1,-1) == t]\n",
    "    unique, counts = np.unique(words_in_topic, return_counts=True)\n",
    "    njdot = np.sum(counts)\n",
    "    for word in range(dim * dim):\n",
    "        numerator = beta\n",
    "        denom = dim * dim * beta + njdot\n",
    "        if word in unique:\n",
    "            numerator += counts[np.where(unique == word)][0]\n",
    "        tprobs[word] = numerator / denom\n",
    "    return tprobs.reshape(dim, dim)\n",
    "        "
   ]
  },
  {
   "cell_type": "markdown",
   "metadata": {},
   "source": [
    "Using the state vector after 1000 iterations of gibbs sampling, I calculate $\\phi_j$ for each topic $j$. It appears that this does a pretty good job at recovering the initial topic-word distributions. "
   ]
  },
  {
   "cell_type": "code",
   "execution_count": 33,
   "metadata": {},
   "outputs": [
    {
     "data": {
      "image/png": "[encoded data removed]",
      "text/plain": [
       "<Figure size 640x480 with 10 Axes>"
      ]
     },
     "metadata": {},
     "output_type": "display_data"
    }
   ],
   "source": [
    "fig, ax = plt.subplots(1, num_topics)\n",
    "\n",
    "for t in range(num_topics):\n",
    "     ax[t].imshow(calc_phi(w_corp, state, t))\n",
    "     ax[t].axis(\"off\")"
   ]
  }
 ],
 "metadata": {
  "kernelspec": {
   "display_name": "math-capstone",
   "language": "python",
   "name": "python3"
  },
  "language_info": {
   "codemirror_mode": {
    "name": "ipython",
    "version": 3
   },
   "file_extension": ".py",
   "mimetype": "text/x-python",
   "name": "python",
   "nbconvert_exporter": "python",
   "pygments_lexer": "ipython3",
   "version": "3.12.2"
  }
 },
 "nbformat": 4,
 "nbformat_minor": 2
}
